{
 "cells": [
  {
   "cell_type": "code",
   "execution_count": null,
   "metadata": {
    "trusted": true
   },
   "outputs": [],
   "source": [
    "!pip install -q langchain==0.1.7 faiss-cpu openai pypdf tiktoken fsspec==2024.10.0"
   ]
  },
  {
   "cell_type": "code",
   "execution_count": null,
   "metadata": {
    "trusted": true
   },
   "outputs": [],
   "source": [
    "import os\n",
    "from langchain.document_loaders import PyPDFLoader\n",
    "from langchain.text_splitter import RecursiveCharacterTextSplitter\n",
    "from langchain.embeddings import OpenAIEmbeddings\n",
    "from langchain.vectorstores import FAISS\n",
    "from langchain.chat_models import ChatOpenAI\n",
    "from langchain.chains import RetrievalQA"
   ]
  },
  {
   "cell_type": "code",
   "execution_count": null,
   "metadata": {
    "trusted": true
   },
   "outputs": [],
   "source": [
    "\n",
    "\n",
    "# ✅ Set OpenAI API Key\n",
    "import os\n",
    "os.environ[\"OPENAI_API_KEY\"] = os.getenv(\"OPENAI_API_KEY\")  # Stored in Kaggle secrets\n",
    "\n",
    "# ✅ Load and split PDFs\n",
    "def load_and_split_pdfs(pdf_paths):\n",
    "    docs = []\n",
    "    for path in pdf_paths:\n",
    "        loader = PyPDFLoader(path)\n",
    "        docs.extend(loader.load())\n",
    "    \n",
    "    splitter = RecursiveCharacterTextSplitter(chunk_size=800, chunk_overlap=100)\n",
    "    split_docs = splitter.split_documents(docs)\n",
    "    return split_docs\n",
    "\n",
    "# ✅ Build vector store\n",
    "def build_vector_store(documents):\n",
    "    embeddings = OpenAIEmbeddings()\n",
    "    vectorstore = FAISS.from_documents(documents, embeddings)\n",
    "    vectorstore.save_local(\"faiss_index\")\n",
    "    return vectorstore\n",
    "\n",
    "# ✅ Load RAG chain\n",
    "def load_rag_chain():\n",
    "    vectorstore = FAISS.load_local(\"faiss_index\", OpenAIEmbeddings())\n",
    "    retriever = vectorstore.as_retriever(search_type=\"similarity\", search_kwargs={\"k\": 3})\n",
    "    llm = ChatOpenAI(model_name=\"gpt-3.5-turbo\", temperature=0)\n",
    "    qa_chain = RetrievalQA.from_chain_type(llm=llm, retriever=retriever, return_source_documents=True)\n",
    "    return qa_chain\n",
    "\n",
    "# ✅ Ask bot\n",
    "def ask_bot(query):\n",
    "    qa_chain = load_rag_chain()\n",
    "    response = qa_chain({\"query\": query})\n",
    "    return response['result']\n",
    "\n",
    "# ✅ Run everything\n",
    "pdf_files = [\"pmkisan.pdf\", \"crop_insurance.pdf\"]  # Change to your actual filenames\n",
    "docs = load_and_split_pdfs(pdf_files)\n",
    "build_vector_store(docs)\n",
    "\n",
    "# ✅ Ask a question\n",
    "query = \"How much subsidy is provided for wheat crop insurance?\"\n",
    "print(\"Q:\", query)\n",
    "print(\"A:\", ask_bot(query))\n"
   ]
  },
  {
   "cell_type": "code",
   "execution_count": null,
   "metadata": {
    "trusted": true
   },
   "outputs": [],
   "source": [
    "# ✅ Set your OpenAI API key (Add this to Kaggle Secrets!)\n",
    "os.environ[\"OPENAI_API_KEY\"] = os.getenv(\"OPENAI_API_KEY\")\n",
    "\n",
    "# ✅ Load PDFs and split\n",
    "def load_and_split_pdfs(pdf_paths):\n",
    "    docs = []\n",
    "    for path in pdf_paths:\n",
    "        loader = PyPDFLoader(path)\n",
    "        docs.extend(loader.load())\n",
    "    splitter = RecursiveCharacterTextSplitter(chunk_size=800, chunk_overlap=100)\n",
    "    return splitter.split_documents(docs)\n",
    "\n",
    "# ✅ Build and save vector store\n",
    "def build_vector_store(documents):\n",
    "    embeddings = OpenAIEmbeddings()\n",
    "    vectordb = FAISS.from_documents(documents, embeddings)\n",
    "    vectordb.save_local(\"faiss_index\")\n",
    "    return vectordb\n",
    "\n",
    "# ✅ Load RAG chain\n",
    "def load_rag_chain():\n",
    "    db = FAISS.load_local(\"faiss_index\", OpenAIEmbeddings())\n",
    "    retriever = db.as_retriever(search_type=\"similarity\", search_kwargs={\"k\": 3})\n",
    "    llm = ChatOpenAI(model_name=\"gpt-3.5-turbo\", temperature=0)\n",
    "    qa_chain = RetrievalQA.from_chain_type(llm=llm, retriever=retriever)\n",
    "    return qa_chain\n",
    "\n",
    "# ✅ Ask question\n",
    "def ask_bot(question):\n",
    "    chain = load_rag_chain()\n",
    "    return chain.run(question)\n",
    "\n",
    "# ✅ Run everything\n",
    "pdf_files = [\"pmkisan.pdf\", \"crop_insurance.pdf\"]  # Upload these to your Kaggle Notebook\n",
    "docs = load_and_split_pdfs(pdf_files)\n",
    "build_vector_store(docs)\n",
    "\n",
    "# ✅ Test it\n",
    "print(\"Q: What is the eligibility for PM Kisan?\")\n",
    "print(\"A:\", ask_bot(\"What is the eligibility for PM Kisan?\"))"
   ]
  }
 ],
 "metadata": {
  "kaggle": {
   "accelerator": "nvidiaTeslaT4",
   "dataSources": [],
   "dockerImageVersionId": 30919,
   "isGpuEnabled": true,
   "isInternetEnabled": true,
   "language": "python",
   "sourceType": "notebook"
  },
  "kernelspec": {
   "display_name": "Python 3",
   "language": "python",
   "name": "python3"
  },
  "language_info": {
   "codemirror_mode": {
    "name": "ipython",
    "version": 3
   },
   "file_extension": ".py",
   "mimetype": "text/x-python",
   "name": "python",
   "nbconvert_exporter": "python",
   "pygments_lexer": "ipython3",
   "version": "3.10.12"
  }
 },
 "nbformat": 4,
 "nbformat_minor": 4
}
